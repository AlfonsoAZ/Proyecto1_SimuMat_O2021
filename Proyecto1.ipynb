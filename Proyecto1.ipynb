{
 "cells": [
  {
   "cell_type": "markdown",
   "id": "68c91696",
   "metadata": {},
   "source": [
    "- Oscar Darío Angel García nt720784\n",
    "- Max\n",
    "- Alfonso"
   ]
  },
  {
   "cell_type": "markdown",
   "id": "65cb449b",
   "metadata": {},
   "source": [
    "# Simulación Matemática - Proyecto 1"
   ]
  },
  {
   "cell_type": "code",
   "execution_count": 1,
   "id": "78a8be5c",
   "metadata": {},
   "outputs": [],
   "source": [
    "import numpy as np\n",
    "import scipy.optimize as opt\n",
    "import matplotlib as plt\n",
    "import pandas as pd"
   ]
  },
  {
   "cell_type": "code",
   "execution_count": null,
   "id": "26f117ed",
   "metadata": {},
   "outputs": [],
   "source": []
  }
 ],
 "metadata": {
  "kernelspec": {
   "display_name": "Python 3",
   "language": "python",
   "name": "python3"
  },
  "language_info": {
   "codemirror_mode": {
    "name": "ipython",
    "version": 3
   },
   "file_extension": ".py",
   "mimetype": "text/x-python",
   "name": "python",
   "nbconvert_exporter": "python",
   "pygments_lexer": "ipython3",
   "version": "3.8.8"
  }
 },
 "nbformat": 4,
 "nbformat_minor": 5
}
