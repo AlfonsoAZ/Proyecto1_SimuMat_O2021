{
 "cells": [
  {
   "cell_type": "markdown",
   "id": "68c91696",
   "metadata": {},
   "source": [
    "- **Oscar Darío Angel García nt720784**\n",
    "- Max\n",
    "- Alfonso"
   ]
  },
  {
   "cell_type": "markdown",
   "id": "65cb449b",
   "metadata": {},
   "source": [
    "---\n",
    "# Simulación Matemática - Proyecto 1"
   ]
  },
  {
   "cell_type": "code",
   "execution_count": 1,
   "id": "78a8be5c",
   "metadata": {},
   "outputs": [],
   "source": [
    "import numpy as np\n",
    "import scipy.optimize as opt\n",
    "import matplotlib.pyplot as plt\n",
    "import pandas as pd"
   ]
  },
  {
   "cell_type": "markdown",
   "id": "19bfe4e5",
   "metadata": {},
   "source": [
    "---\n",
    "### Problema.\n",
    "\n",
    "Los siguientes datos representan una medida anual del tráfico aéreo llamada *Abordajes*,<br>\n",
    "que representa la cantidad de asientos que fueron accedidos en vuelos comerciales.\n",
    "\n",
    "Bajo esta lógica, una misma persona podría utilizar el transporte aéreo 3 veces en un mismo año,<br>\n",
    "ya sea por razones laborales, turísticas etc. y el aporte total a la cifra sería de $3$.\n",
    "\n",
    "Estos datos están enfocados únicamente al tráfico aéreo de México, representan esta medida desde 1995 hasta 2019<br>\n",
    "(un periodo total de 25 años).\n",
    "\n",
    "\n",
    "Tomado de:<br>\n",
    "https://data.worldbank.org/"
   ]
  },
  {
   "cell_type": "code",
   "execution_count": 2,
   "id": "d01dacab",
   "metadata": {},
   "outputs": [
    {
     "data": {
      "text/html": [
       "<div>\n",
       "<style scoped>\n",
       "    .dataframe tbody tr th:only-of-type {\n",
       "        vertical-align: middle;\n",
       "    }\n",
       "\n",
       "    .dataframe tbody tr th {\n",
       "        vertical-align: top;\n",
       "    }\n",
       "\n",
       "    .dataframe thead th {\n",
       "        text-align: right;\n",
       "    }\n",
       "</style>\n",
       "<table border=\"1\" class=\"dataframe\">\n",
       "  <thead>\n",
       "    <tr style=\"text-align: right;\">\n",
       "      <th></th>\n",
       "      <th>Year</th>\n",
       "      <th>Abordajes</th>\n",
       "    </tr>\n",
       "  </thead>\n",
       "  <tbody>\n",
       "    <tr>\n",
       "      <th>0</th>\n",
       "      <td>1995</td>\n",
       "      <td>37613</td>\n",
       "    </tr>\n",
       "    <tr>\n",
       "      <th>1</th>\n",
       "      <td>1996</td>\n",
       "      <td>41723</td>\n",
       "    </tr>\n",
       "    <tr>\n",
       "      <th>2</th>\n",
       "      <td>1997</td>\n",
       "      <td>42442</td>\n",
       "    </tr>\n",
       "    <tr>\n",
       "      <th>3</th>\n",
       "      <td>1998</td>\n",
       "      <td>46874</td>\n",
       "    </tr>\n",
       "    <tr>\n",
       "      <th>4</th>\n",
       "      <td>1999</td>\n",
       "      <td>47273</td>\n",
       "    </tr>\n",
       "    <tr>\n",
       "      <th>5</th>\n",
       "      <td>2000</td>\n",
       "      <td>48333</td>\n",
       "    </tr>\n",
       "    <tr>\n",
       "      <th>6</th>\n",
       "      <td>2001</td>\n",
       "      <td>46615</td>\n",
       "    </tr>\n",
       "    <tr>\n",
       "      <th>7</th>\n",
       "      <td>2002</td>\n",
       "      <td>51616</td>\n",
       "    </tr>\n",
       "    <tr>\n",
       "      <th>8</th>\n",
       "      <td>2003</td>\n",
       "      <td>54132</td>\n",
       "    </tr>\n",
       "    <tr>\n",
       "      <th>9</th>\n",
       "      <td>2004</td>\n",
       "      <td>54387</td>\n",
       "    </tr>\n",
       "    <tr>\n",
       "      <th>10</th>\n",
       "      <td>2005</td>\n",
       "      <td>54054</td>\n",
       "    </tr>\n",
       "    <tr>\n",
       "      <th>11</th>\n",
       "      <td>2006</td>\n",
       "      <td>66163</td>\n",
       "    </tr>\n",
       "    <tr>\n",
       "      <th>12</th>\n",
       "      <td>2007</td>\n",
       "      <td>77169</td>\n",
       "    </tr>\n",
       "    <tr>\n",
       "      <th>13</th>\n",
       "      <td>2008</td>\n",
       "      <td>74582</td>\n",
       "    </tr>\n",
       "    <tr>\n",
       "      <th>14</th>\n",
       "      <td>2009</td>\n",
       "      <td>69185</td>\n",
       "    </tr>\n",
       "    <tr>\n",
       "      <th>15</th>\n",
       "      <td>2010</td>\n",
       "      <td>78770</td>\n",
       "    </tr>\n",
       "    <tr>\n",
       "      <th>16</th>\n",
       "      <td>2011</td>\n",
       "      <td>79728</td>\n",
       "    </tr>\n",
       "    <tr>\n",
       "      <th>17</th>\n",
       "      <td>2012</td>\n",
       "      <td>79353</td>\n",
       "    </tr>\n",
       "    <tr>\n",
       "      <th>18</th>\n",
       "      <td>2013</td>\n",
       "      <td>77717</td>\n",
       "    </tr>\n",
       "    <tr>\n",
       "      <th>19</th>\n",
       "      <td>2014</td>\n",
       "      <td>80683</td>\n",
       "    </tr>\n",
       "    <tr>\n",
       "      <th>20</th>\n",
       "      <td>2015</td>\n",
       "      <td>83401</td>\n",
       "    </tr>\n",
       "    <tr>\n",
       "      <th>21</th>\n",
       "      <td>2016</td>\n",
       "      <td>84683</td>\n",
       "    </tr>\n",
       "    <tr>\n",
       "      <th>22</th>\n",
       "      <td>2017</td>\n",
       "      <td>86316</td>\n",
       "    </tr>\n",
       "    <tr>\n",
       "      <th>23</th>\n",
       "      <td>2018</td>\n",
       "      <td>87924</td>\n",
       "    </tr>\n",
       "    <tr>\n",
       "      <th>24</th>\n",
       "      <td>2019</td>\n",
       "      <td>89049</td>\n",
       "    </tr>\n",
       "  </tbody>\n",
       "</table>\n",
       "</div>"
      ],
      "text/plain": [
       "    Year  Abordajes\n",
       "0   1995      37613\n",
       "1   1996      41723\n",
       "2   1997      42442\n",
       "3   1998      46874\n",
       "4   1999      47273\n",
       "5   2000      48333\n",
       "6   2001      46615\n",
       "7   2002      51616\n",
       "8   2003      54132\n",
       "9   2004      54387\n",
       "10  2005      54054\n",
       "11  2006      66163\n",
       "12  2007      77169\n",
       "13  2008      74582\n",
       "14  2009      69185\n",
       "15  2010      78770\n",
       "16  2011      79728\n",
       "17  2012      79353\n",
       "18  2013      77717\n",
       "19  2014      80683\n",
       "20  2015      83401\n",
       "21  2016      84683\n",
       "22  2017      86316\n",
       "23  2018      87924\n",
       "24  2019      89049"
      ]
     },
     "execution_count": 2,
     "metadata": {},
     "output_type": "execute_result"
    }
   ],
   "source": [
    "data = pd.read_csv('Trafico_AereoMex.csv')\n",
    "data"
   ]
  },
  {
   "cell_type": "code",
   "execution_count": 3,
   "id": "ae35e1e8",
   "metadata": {},
   "outputs": [
    {
     "data": {
      "image/png": "[encoded data removed]",
      "text/plain": [
       "<Figure size 432x288 with 1 Axes>"
      ]
     },
     "metadata": {
      "needs_background": "light"
     },
     "output_type": "display_data"
    }
   ],
   "source": [
    "x=data['Year']\n",
    "xn=np.array([i for i in range(25)]) #definimos una 'x' numérica para poder trabajar los datos cuantitativamente\n",
    "y=data['Abordajes']/100\n",
    "plt.scatter(x,y,s=5)\n",
    "plt.xlabel('Año')\n",
    "plt.ylabel('Abordajes en cientos')\n",
    "plt.scatter(x,y,s=5)\n",
    "plt.grid()"
   ]
  },
  {
   "cell_type": "markdown",
   "id": "9df0d3f5",
   "metadata": {},
   "source": [
    "- Se buscará ajustar estos datos primeramente a curvas polinomiales desde grado 1 a 3.\n",
    "- Se graficarán dichas curvas vs los datos para contrastar visualmente el ajuste.\n",
    "- Se graficará el coeficiente $R^2$ vs el modelo elegido.\n",
    "- Se tratará de predecir por el mejor modelo, la cantidad de abordajes que se tendrán para 2025 y 2040."
   ]
  },
  {
   "cell_type": "code",
   "execution_count": 4,
   "id": "a0ee1dd6",
   "metadata": {},
   "outputs": [],
   "source": [
    "#Polinomio Grado 1\n",
    "def fun1(beta,x,y):\n",
    "    f=beta[0]+beta[1]*x   #la función lineal con coeficientes a determinar\n",
    "    return (-1 + ( np.sum((y-f)**2)/np.sum((y-np.mean(f))**2) )) #Coeficiente R2\n",
    "\n",
    "beta0=np.random.rand(2) #parámetro para la función 'minimize' de Scipy, dependiente de la dimensión del array 'beta'"
   ]
  },
  {
   "cell_type": "code",
   "execution_count": 5,
   "id": "1bee7282",
   "metadata": {},
   "outputs": [
    {
     "data": {
      "text/plain": [
       "[array([382.74380912,  22.7639717 ]), -0.943119393599452]"
      ]
     },
     "execution_count": 5,
     "metadata": {},
     "output_type": "execute_result"
    }
   ],
   "source": [
    "sol1=opt.minimize(fun1,beta0,args=(xn,y))\n",
    "ans1=[sol1.x,-sol1.fun] \n",
    "ans1 #solicitamos que python nos regrese los coeficientes beta calculados y el coeficiente R2."
   ]
  },
  {
   "cell_type": "code",
   "execution_count": 6,
   "id": "3815b33f",
   "metadata": {},
   "outputs": [],
   "source": [
    "#Polinomio Grado 2\n",
    "def fun2(beta,x,y):\n",
    "    f=beta[0]+beta[1]*x+beta[2]*(x**2)   #la función parabólica con coeficientes a determinar\n",
    "    return (-1 + ( np.sum((y-f)**2)/np.sum((y-np.mean(f))**2) )) #Coeficiente R2\n",
    "\n",
    "beta0_2=np.random.rand(3) #parámetro para la función 'minimize' de Scipy, dependiente de la dimensión del array 'beta'"
   ]
  },
  {
   "cell_type": "code",
   "execution_count": 7,
   "id": "99c89c2e",
   "metadata": {},
   "outputs": [
    {
     "data": {
      "text/plain": [
       "[array([ 3.58780425e+02,  2.90138306e+01, -2.60368984e-01]),\n",
       " -0.9482270017964539]"
      ]
     },
     "execution_count": 7,
     "metadata": {},
     "output_type": "execute_result"
    }
   ],
   "source": [
    "sol2=opt.minimize(fun2,beta0_2,args=(xn,y))\n",
    "ans2=[sol2.x,-sol2.fun] \n",
    "ans2 #solicitamos que python nos regrese los coeficientes beta calculados y el coeficiente R2."
   ]
  },
  {
   "cell_type": "code",
   "execution_count": 14,
   "id": "ea59b47c",
   "metadata": {},
   "outputs": [],
   "source": [
    "#Polinomio Grado 3\n",
    "def fun3(beta,x,y):\n",
    "    f=beta[0]+beta[1]*x+beta[2]*(x**2)+beta[3]*(x**3)   #la función cúbica con coeficientes a determinar\n",
    "    return (-1 + ( np.sum((y-f)**2)/np.sum((y-np.mean(f))**2) )) #Coeficiente R2\n",
    "\n",
    "beta0_3=np.random.rand(4) #parámetro para la función 'minimize' de Scipy, dependiente de la dimensión del array 'beta'"
   ]
  },
  {
   "cell_type": "code",
   "execution_count": 15,
   "id": "e686dd6f",
   "metadata": {},
   "outputs": [
    {
     "data": {
      "text/plain": [
       "[array([ 3.94098099e+02,  9.31903852e+00,  1.83358899e+00, -5.81655550e-02]),\n",
       " -0.958320053203447]"
      ]
     },
     "execution_count": 15,
     "metadata": {},
     "output_type": "execute_result"
    }
   ],
   "source": [
    "sol3=opt.minimize(fun3,beta0_3,args=(xn,y))\n",
    "ans3=[sol3.x,-sol3.fun] \n",
    "ans3 #solicitamos que python nos regrese los coeficientes beta calculados y el coeficiente R2."
   ]
  },
  {
   "cell_type": "code",
   "execution_count": 16,
   "id": "8e6682fb",
   "metadata": {},
   "outputs": [],
   "source": [
    "#A continuación se definen las funciones correspondientes a cada polinomio\n",
    "   #las cuales graficaremos junto a los datos segun lo que se obtuvo\n",
    "f1=sol1.x[0]+sol1.x[1]*xn\n",
    "f2=sol2.x[0]+sol2.x[1]*xn+sol2.x[2]*(xn**2)\n",
    "f3=sol3.x[0]+sol3.x[1]*xn+sol3.x[2]*(xn**2)+sol3.x[3]*(xn**3)"
   ]
  },
  {
   "cell_type": "code",
   "execution_count": 17,
   "id": "4a05e632",
   "metadata": {},
   "outputs": [
    {
     "data": {
      "image/png": "[encoded data removed]",
      "text/plain": [
       "<Figure size 432x288 with 1 Axes>"
      ]
     },
     "metadata": {
      "needs_background": "light"
     },
     "output_type": "display_data"
    }
   ],
   "source": [
    "plt.scatter(xn+1995,y,s=5,c='black') #sumamos a la 'x' numérica el año inicial para obtener la gráfica cualitativa\n",
    "plt.xlabel('Año')\n",
    "plt.ylabel('Abordajes en cientos')\n",
    "plt.plot(xn+1995,f1,'b',label='Lineal')\n",
    "plt.plot(xn+1995,f2,'r',label='Cuadrática')\n",
    "plt.plot(xn+1995,f3,'y',label='Cúbica')\n",
    "plt.legend(loc='best')\n",
    "plt.grid()"
   ]
  },
  {
   "cell_type": "code",
   "execution_count": 18,
   "id": "cc81d89f",
   "metadata": {},
   "outputs": [
    {
     "data": {
      "image/png": "[encoded data removed]",
      "text/plain": [
       "<Figure size 432x288 with 1 Axes>"
      ]
     },
     "metadata": {
      "needs_background": "light"
     },
     "output_type": "display_data"
    }
   ],
   "source": [
    "plt.plot(1,-sol1.fun,'or')\n",
    "plt.plot(2,-sol2.fun,'or')\n",
    "plt.plot(3,-sol3.fun,'or')\n",
    "plt.xlabel('Grado Polinomio')\n",
    "plt.ylabel('R2')\n",
    "plt.grid()"
   ]
  },
  {
   "cell_type": "markdown",
   "id": "ee983a10",
   "metadata": {},
   "source": [
    "Como se observa, los 3 modelos se ajustaron bastante bien a los datos, arrojando coeficientes de $R^2$ mayores a 0.91, de lo cual se concluye que cualquiera de los 3 modelos es suficientemente preciso para realizar las predicciones, sin embargo, se utilizará el modelo de grado 3 pues es el que arrojó un indice mayor de ajuste a la curva."
   ]
  },
  {
   "cell_type": "code",
   "execution_count": 36,
   "id": "b3e17336",
   "metadata": {},
   "outputs": [],
   "source": [
    "#Definición de la funcion a utilizar para las predicciones\n",
    "def f(año):\n",
    "    x=año-1995\n",
    "    y=sol3.x[0]+sol3.x[1]*x+sol3.x[2]*(x**2)+sol3.x[3]*(x**3)\n",
    "    return (y*100)\n",
    "    #Es importante notar que debido a que esta función está construida en base al modelo numérico,\n",
    "    #el año ingresado deberá restarcele 1995 pues es el año cero, en el cual comienza nuestro modelo.\n",
    "        #Asímismo el resultado final se multiplica por 100 pues el modelo numérico reporta los resultados en centenas."
   ]
  },
  {
   "cell_type": "code",
   "execution_count": 37,
   "id": "fd7a86d3",
   "metadata": {},
   "outputs": [
    {
     "data": {
      "text/plain": [
       "75342.935658327"
      ]
     },
     "execution_count": 37,
     "metadata": {},
     "output_type": "execute_result"
    }
   ],
   "source": [
    "#Predicción para el año 2025\n",
    "f(2025)"
   ]
  },
  {
   "cell_type": "code",
   "execution_count": 31,
   "id": "336590cb",
   "metadata": {},
   "outputs": [
    {
     "data": {
      "text/plain": [
       "-773.863670108808"
      ]
     },
     "execution_count": 31,
     "metadata": {},
     "output_type": "execute_result"
    }
   ],
   "source": [
    "#Predicción para el año 2040\n",
    "f(2040)"
   ]
  },
  {
   "cell_type": "markdown",
   "id": "4b33136e",
   "metadata": {},
   "source": [
    "* Aquí nos encontramos con que el modelo cúbico fue muy bueno para predecir el número de abordajes para un año cercano al último dato reportado en la DB. Mas fue muy impreciso son un año relativamente lejano, pues por la naturaleza que posee una función cúbica de cambiar su convección en ciertos intervalos, arrojó un dato negativo.\n",
    "\n",
    "\n",
    "* Por ello, para predecir de manera más sencilla datos de años que salen del rango de datos de nuestro modelo, usaremos la función lineal, pues si bien no es el más preciso de los 3 modelos obtenidos, sigue teniendo un coeficiente $R2$ elevado y por lógica sabemos que este modelo no presentará datos negativos para valores de años futuros."
   ]
  },
  {
   "cell_type": "code",
   "execution_count": 33,
   "id": "8ef6332a",
   "metadata": {},
   "outputs": [],
   "source": [
    "#Definición de la funcion a utilizar para las predicciones\n",
    "def f_lin(año):\n",
    "    x=año-1995\n",
    "    y=sol1.x[0]+sol1.x[1]*x\n",
    "    return (y*100)"
   ]
  },
  {
   "cell_type": "code",
   "execution_count": 34,
   "id": "7a180f35",
   "metadata": {},
   "outputs": [
    {
     "data": {
      "text/plain": [
       "140712.2535623516"
      ]
     },
     "execution_count": 34,
     "metadata": {},
     "output_type": "execute_result"
    }
   ],
   "source": [
    "#Nueva predicción para el año 2040\n",
    "f_lin(2040)"
   ]
  },
  {
   "cell_type": "markdown",
   "id": "02a4fea7",
   "metadata": {},
   "source": [
    "* De esta manera, se logra predecir por el modelo cúbico, que para el año 2025, habrán `75,342` abordajes aproximadamente para el tráfico aéreo mexicano, mientras que por el modelo lineal, se logra predecir que para el año 2040 habrán `140,712` abordajes aproximadamente."
   ]
  }
 ],
 "metadata": {
  "kernelspec": {
   "display_name": "Python 3",
   "language": "python",
   "name": "python3"
  },
  "language_info": {
   "codemirror_mode": {
    "name": "ipython",
    "version": 3
   },
   "file_extension": ".py",
   "mimetype": "text/x-python",
   "name": "python",
   "nbconvert_exporter": "python",
   "pygments_lexer": "ipython3",
   "version": "3.8.8"
  }
 },
 "nbformat": 4,
 "nbformat_minor": 5
}
