{
 "cells": [
  {
   "cell_type": "markdown",
   "id": "68c91696",
   "metadata": {},
   "source": [
    "- **Oscar Darío Angel García nt720784**\n",
    "- Max\n",
    "- Alfonso"
   ]
  },
  {
   "cell_type": "markdown",
   "id": "65cb449b",
   "metadata": {},
   "source": [
    "---\n",
    "# Simulación Matemática - Proyecto 1"
   ]
  },
  {
   "cell_type": "code",
   "execution_count": 1,
   "id": "78a8be5c",
   "metadata": {},
   "outputs": [],
   "source": [
    "import numpy as np\n",
    "import scipy.optimize as opt\n",
    "import matplotlib.pyplot as plt\n",
    "import pandas as pd"
   ]
  },
  {
   "cell_type": "markdown",
   "id": "19bfe4e5",
   "metadata": {},
   "source": [
    "---\n",
    "### Problema.\n",
    "\n",
    "Los siguientes datos representan una medida anual del tráfico aéreo llamada *Abordajes*,<br>\n",
    "que representa la cantidad de asientos que fueron accedidos en vuelos comerciales.\n",
    "\n",
    "Bajo esta lógica, una misma persona podría utilizar el transporte aéreo 3 veces en un mismo año,<br>\n",
    "ya sea por razones laborales, turísticas etc. y el aporte total a la cifra sería de $3$.\n",
    "\n",
    "Estos datos están enfocados únicamente al tráfico aéreo de México, representan esta medida desde 1995 hasta 2019<br>\n",
    "(un periodo total de 25 años).\n",
    "\n",
    "\n",
    "Tomado de:<br>\n",
    "https://data.worldbank.org/"
   ]
  },
  {
   "cell_type": "code",
   "execution_count": 2,
   "id": "d01dacab",
   "metadata": {},
   "outputs": [
    {
     "data": {
      "text/html": [
       "<div>\n",
       "<style scoped>\n",
       "    .dataframe tbody tr th:only-of-type {\n",
       "        vertical-align: middle;\n",
       "    }\n",
       "\n",
       "    .dataframe tbody tr th {\n",
       "        vertical-align: top;\n",
       "    }\n",
       "\n",
       "    .dataframe thead th {\n",
       "        text-align: right;\n",
       "    }\n",
       "</style>\n",
       "<table border=\"1\" class=\"dataframe\">\n",
       "  <thead>\n",
       "    <tr style=\"text-align: right;\">\n",
       "      <th></th>\n",
       "      <th>Year</th>\n",
       "      <th>Abordajes</th>\n",
       "    </tr>\n",
       "  </thead>\n",
       "  <tbody>\n",
       "    <tr>\n",
       "      <th>0</th>\n",
       "      <td>1995</td>\n",
       "      <td>37613</td>\n",
       "    </tr>\n",
       "    <tr>\n",
       "      <th>1</th>\n",
       "      <td>1996</td>\n",
       "      <td>41723</td>\n",
       "    </tr>\n",
       "    <tr>\n",
       "      <th>2</th>\n",
       "      <td>1997</td>\n",
       "      <td>42442</td>\n",
       "    </tr>\n",
       "    <tr>\n",
       "      <th>3</th>\n",
       "      <td>1998</td>\n",
       "      <td>46874</td>\n",
       "    </tr>\n",
       "    <tr>\n",
       "      <th>4</th>\n",
       "      <td>1999</td>\n",
       "      <td>47273</td>\n",
       "    </tr>\n",
       "    <tr>\n",
       "      <th>5</th>\n",
       "      <td>2000</td>\n",
       "      <td>48333</td>\n",
       "    </tr>\n",
       "    <tr>\n",
       "      <th>6</th>\n",
       "      <td>2001</td>\n",
       "      <td>46615</td>\n",
       "    </tr>\n",
       "    <tr>\n",
       "      <th>7</th>\n",
       "      <td>2002</td>\n",
       "      <td>51616</td>\n",
       "    </tr>\n",
       "    <tr>\n",
       "      <th>8</th>\n",
       "      <td>2003</td>\n",
       "      <td>54132</td>\n",
       "    </tr>\n",
       "    <tr>\n",
       "      <th>9</th>\n",
       "      <td>2004</td>\n",
       "      <td>54387</td>\n",
       "    </tr>\n",
       "    <tr>\n",
       "      <th>10</th>\n",
       "      <td>2005</td>\n",
       "      <td>54054</td>\n",
       "    </tr>\n",
       "    <tr>\n",
       "      <th>11</th>\n",
       "      <td>2006</td>\n",
       "      <td>66163</td>\n",
       "    </tr>\n",
       "    <tr>\n",
       "      <th>12</th>\n",
       "      <td>2007</td>\n",
       "      <td>77169</td>\n",
       "    </tr>\n",
       "    <tr>\n",
       "      <th>13</th>\n",
       "      <td>2008</td>\n",
       "      <td>74582</td>\n",
       "    </tr>\n",
       "    <tr>\n",
       "      <th>14</th>\n",
       "      <td>2009</td>\n",
       "      <td>69185</td>\n",
       "    </tr>\n",
       "    <tr>\n",
       "      <th>15</th>\n",
       "      <td>2010</td>\n",
       "      <td>78770</td>\n",
       "    </tr>\n",
       "    <tr>\n",
       "      <th>16</th>\n",
       "      <td>2011</td>\n",
       "      <td>79728</td>\n",
       "    </tr>\n",
       "    <tr>\n",
       "      <th>17</th>\n",
       "      <td>2012</td>\n",
       "      <td>79353</td>\n",
       "    </tr>\n",
       "    <tr>\n",
       "      <th>18</th>\n",
       "      <td>2013</td>\n",
       "      <td>77717</td>\n",
       "    </tr>\n",
       "    <tr>\n",
       "      <th>19</th>\n",
       "      <td>2014</td>\n",
       "      <td>80683</td>\n",
       "    </tr>\n",
       "    <tr>\n",
       "      <th>20</th>\n",
       "      <td>2015</td>\n",
       "      <td>83401</td>\n",
       "    </tr>\n",
       "    <tr>\n",
       "      <th>21</th>\n",
       "      <td>2016</td>\n",
       "      <td>84683</td>\n",
       "    </tr>\n",
       "    <tr>\n",
       "      <th>22</th>\n",
       "      <td>2017</td>\n",
       "      <td>86316</td>\n",
       "    </tr>\n",
       "    <tr>\n",
       "      <th>23</th>\n",
       "      <td>2018</td>\n",
       "      <td>87924</td>\n",
       "    </tr>\n",
       "    <tr>\n",
       "      <th>24</th>\n",
       "      <td>2019</td>\n",
       "      <td>89049</td>\n",
       "    </tr>\n",
       "  </tbody>\n",
       "</table>\n",
       "</div>"
      ],
      "text/plain": [
       "    Year  Abordajes\n",
       "0   1995      37613\n",
       "1   1996      41723\n",
       "2   1997      42442\n",
       "3   1998      46874\n",
       "4   1999      47273\n",
       "5   2000      48333\n",
       "6   2001      46615\n",
       "7   2002      51616\n",
       "8   2003      54132\n",
       "9   2004      54387\n",
       "10  2005      54054\n",
       "11  2006      66163\n",
       "12  2007      77169\n",
       "13  2008      74582\n",
       "14  2009      69185\n",
       "15  2010      78770\n",
       "16  2011      79728\n",
       "17  2012      79353\n",
       "18  2013      77717\n",
       "19  2014      80683\n",
       "20  2015      83401\n",
       "21  2016      84683\n",
       "22  2017      86316\n",
       "23  2018      87924\n",
       "24  2019      89049"
      ]
     },
     "execution_count": 2,
     "metadata": {},
     "output_type": "execute_result"
    }
   ],
   "source": [
    "data = pd.read_csv('Trafico_AereoMex.csv')\n",
    "data"
   ]
  },
  {
   "cell_type": "code",
   "execution_count": 3,
   "id": "ae35e1e8",
   "metadata": {},
   "outputs": [
    {
     "data": {
      "image/png": "[encoded data removed]",
      "text/plain": [
       "<Figure size 432x288 with 1 Axes>"
      ]
     },
     "metadata": {
      "needs_background": "light"
     },
     "output_type": "display_data"
    }
   ],
   "source": [
    "x=data['Year']\n",
    "xn=np.array([i for i in range(25)]) #definimos una 'x' numérica para poder trabajar los datos cuantitativamente\n",
    "y=data['Abordajes']/100\n",
    "plt.scatter(x,y,s=5)\n",
    "plt.xlabel('Año')\n",
    "plt.ylabel('Abordajes en cientos')\n",
    "plt.scatter(x,y,s=5)\n",
    "plt.grid()"
   ]
  },
  {
   "cell_type": "markdown",
   "id": "9df0d3f5",
   "metadata": {},
   "source": [
    "- Se buscará ajustar estos datos primeramente a curvas polinomiales desde grado 1 a 3.\n",
    "- Se graficarán dichas curvas vs los datos para contrastar visualmente el ajuste.\n",
    "- Se graficará el coeficiente $R^2$ vs el modelo elegido.\n",
    "\n",
    "\n",
    "- Se buscará ajustar estos datos finalmente a curvas logartimica, exponencial y potencial.\n",
    "- Se graficarán dichas curvas vs los datos para contrastar visualmente el ajuste.\n",
    "- Se graficará el coeficiente $R^2$ vs el modelo elegido.\n",
    "\n",
    "\n",
    "- Se tratará de predecir por el mejor modelo, la cantidad de abordajes que se tendrán para 2025 y 2040.\n",
    "---"
   ]
  },
  {
   "cell_type": "code",
   "execution_count": 4,
   "id": "a0ee1dd6",
   "metadata": {},
   "outputs": [],
   "source": [
    "#Polinomio Grado 1\n",
    "def fun1(beta,x,y):\n",
    "    f=beta[0]+beta[1]*x   #la función lineal con coeficientes a determinar\n",
    "    return (-1 + ( np.sum((y-f)**2)/np.sum((y-np.mean(f))**2) )) #Coeficiente R2\n",
    "\n",
    "beta0=np.random.rand(2) #parámetro para la función 'minimize' de Scipy, dependiente de la dimensión del array 'beta'"
   ]
  },
  {
   "cell_type": "code",
   "execution_count": 5,
   "id": "1bee7282",
   "metadata": {},
   "outputs": [
    {
     "data": {
      "text/plain": [
       "[array([382.68846939,  22.76762546]), 0.9431193765961967]"
      ]
     },
     "execution_count": 5,
     "metadata": {},
     "output_type": "execute_result"
    }
   ],
   "source": [
    "sol1=opt.minimize(fun1,beta0,args=(xn,y))\n",
    "ans1=[sol1.x,-sol1.fun] \n",
    "ans1 #solicitamos que python nos regrese los coeficientes beta calculados y el coeficiente R2."
   ]
  },
  {
   "cell_type": "code",
   "execution_count": 6,
   "id": "3815b33f",
   "metadata": {},
   "outputs": [],
   "source": [
    "#Polinomio Grado 2\n",
    "def fun2(beta,x,y):\n",
    "    f=beta[0]+beta[1]*x+beta[2]*(x**2)   #la función parabólica con coeficientes a determinar\n",
    "    return (-1 + ( np.sum((y-f)**2)/np.sum((y-np.mean(f))**2) )) #Coeficiente R2\n",
    "\n",
    "beta0_2=np.random.rand(3) #parámetro para la función 'minimize' de Scipy, dependiente de la dimensión del array 'beta'"
   ]
  },
  {
   "cell_type": "code",
   "execution_count": 7,
   "id": "99c89c2e",
   "metadata": {},
   "outputs": [
    {
     "data": {
      "text/plain": [
       "[array([ 3.58780978e+02,  2.90137266e+01, -2.60365380e-01]),\n",
       " 0.9482270017926335]"
      ]
     },
     "execution_count": 7,
     "metadata": {},
     "output_type": "execute_result"
    }
   ],
   "source": [
    "sol2=opt.minimize(fun2,beta0_2,args=(xn,y))\n",
    "ans2=[sol2.x,-sol2.fun] \n",
    "ans2 #solicitamos que python nos regrese los coeficientes beta calculados y el coeficiente R2."
   ]
  },
  {
   "cell_type": "code",
   "execution_count": 30,
   "id": "ea59b47c",
   "metadata": {},
   "outputs": [],
   "source": [
    "#Polinomio Grado 3\n",
    "def fun3(beta,x,y):\n",
    "    f=beta[0]+beta[1]*x+beta[2]*(x**2)+beta[3]*(x**3)   #la función cúbica con coeficientes a determinar\n",
    "    return (-1 + ( np.sum((y-f)**2)/np.sum((y-np.mean(f))**2) )) #Coeficiente R2\n",
    "\n",
    "beta0_3=np.random.rand(4) #parámetro para la función 'minimize' de Scipy, dependiente de la dimensión del array 'beta'"
   ]
  },
  {
   "cell_type": "code",
   "execution_count": 31,
   "id": "e686dd6f",
   "metadata": {},
   "outputs": [
    {
     "data": {
      "text/plain": [
       "[array([ 3.94097929e+02,  9.31907108e+00,  1.83358713e+00, -5.81655213e-02]),\n",
       " 0.9583200532038543]"
      ]
     },
     "execution_count": 31,
     "metadata": {},
     "output_type": "execute_result"
    }
   ],
   "source": [
    "sol3=opt.minimize(fun3,beta0_3,args=(xn,y))\n",
    "ans3=[sol3.x,-sol3.fun] \n",
    "ans3 #solicitamos que python nos regrese los coeficientes beta calculados y el coeficiente R2."
   ]
  },
  {
   "cell_type": "code",
   "execution_count": 32,
   "id": "8e6682fb",
   "metadata": {},
   "outputs": [],
   "source": [
    "#A continuación se definen las funciones correspondientes a cada polinomio\n",
    "   #las cuales graficaremos junto a los datos segun lo que se obtuvo\n",
    "f1=sol1.x[0]+sol1.x[1]*xn\n",
    "f2=sol2.x[0]+sol2.x[1]*xn+sol2.x[2]*(xn**2)\n",
    "f3=sol3.x[0]+sol3.x[1]*xn+sol3.x[2]*(xn**2)+sol3.x[3]*(xn**3)"
   ]
  },
  {
   "cell_type": "code",
   "execution_count": 33,
   "id": "4a05e632",
   "metadata": {},
   "outputs": [
    {
     "data": {
      "image/png": "[encoded data removed]",
      "text/plain": [
       "<Figure size 432x288 with 1 Axes>"
      ]
     },
     "metadata": {
      "needs_background": "light"
     },
     "output_type": "display_data"
    }
   ],
   "source": [
    "plt.scatter(xn+1995,y,s=5,c='black') #sumamos a la 'x' numérica el año inicial para obtener la gráfica cualitativa\n",
    "plt.xlabel('Año')\n",
    "plt.ylabel('Abordajes en cientos')\n",
    "plt.plot(xn+1995,f1,'b',label='Lineal')\n",
    "plt.plot(xn+1995,f2,'r',label='Cuadrática')\n",
    "plt.plot(xn+1995,f3,'y',label='Cúbica')\n",
    "plt.legend(loc='best')\n",
    "plt.grid()"
   ]
  },
  {
   "cell_type": "code",
   "execution_count": 34,
   "id": "cc81d89f",
   "metadata": {},
   "outputs": [
    {
     "data": {
      "image/png": "[encoded data removed]",
      "text/plain": [
       "<Figure size 432x288 with 1 Axes>"
      ]
     },
     "metadata": {
      "needs_background": "light"
     },
     "output_type": "display_data"
    }
   ],
   "source": [
    "plt.plot(1,-sol1.fun,'or')\n",
    "plt.plot(2,-sol2.fun,'or')\n",
    "plt.plot(3,-sol3.fun,'or')\n",
    "plt.xlabel('Grado Polinomio')\n",
    "plt.ylabel('R2')\n",
    "plt.grid()"
   ]
  },
  {
   "cell_type": "markdown",
   "id": "ee983a10",
   "metadata": {},
   "source": [
    "Como se observa, los 3 modelos polinomiales se ajustaron bastante bien a los datos, arrojando coeficientes de $R^2$ mayores a 0.91, de lo cual se concluye que cualquiera de los 3 modelos es suficientemente preciso para realizar las predicciones, sin embargo, se utilizará el modelo de grado 3 pues es el que arrojó un indice mayor de ajuste a la curva."
   ]
  },
  {
   "cell_type": "code",
   "execution_count": 13,
   "id": "9a728f51",
   "metadata": {},
   "outputs": [],
   "source": [
    "#Modelo logaritmico\n",
    "def funln(beta,x,y):\n",
    "    f=beta[0]+beta[1]*np.log(x)   #la función logarítmica con coeficientes a determinar\n",
    "    return (-1 + ( np.sum((y-f)**2)/np.sum((y-np.mean(f))**2) )) #Coeficiente R2\n",
    "\n",
    "beta0_ln=np.random.rand(2) #parámetro para la función 'minimize' de Scipy, dependiente de la dimensión del array 'beta'"
   ]
  },
  {
   "cell_type": "code",
   "execution_count": 14,
   "id": "5b0fb243",
   "metadata": {},
   "outputs": [
    {
     "data": {
      "text/plain": [
       "[array([220.35637919, 187.72506527]), 0.8241269460640395]"
      ]
     },
     "execution_count": 14,
     "metadata": {},
     "output_type": "execute_result"
    }
   ],
   "source": [
    "sol_ln=opt.minimize(funln,beta0_ln,args=(xn+1,y))\n",
    "ans_ln=[sol_ln.x,-sol_ln.fun]\n",
    "ans_ln #solicitamos que python nos regrese los coeficientes beta calculados y el coeficiente R2."
   ]
  },
  {
   "cell_type": "code",
   "execution_count": 15,
   "id": "7db2949b",
   "metadata": {},
   "outputs": [],
   "source": [
    "#Modelo exponencial\n",
    "def funexp(beta,x,y):\n",
    "    f=beta[0]*np.exp(beta[1]*x)   #La función exponencial con coeficientes a determinar\n",
    "    return (-1 + ( np.sum((y-f)**2)/np.sum((y-np.mean(f))**2) )) #Coeficiente R2\n",
    "\n",
    "beta0_exp=np.random.rand(2) #parámetro para la función 'minimize' de Scipy, dependiente de la dimensión del array 'beta'"
   ]
  },
  {
   "cell_type": "code",
   "execution_count": 16,
   "id": "09cabe60",
   "metadata": {},
   "outputs": [
    {
     "data": {
      "text/plain": [
       "[array([4.11945332e+02, 3.36358739e-02]), 0.9156951892582496]"
      ]
     },
     "execution_count": 16,
     "metadata": {},
     "output_type": "execute_result"
    }
   ],
   "source": [
    "sol_exp=opt.minimize(funexp,beta0_exp,args=(xn+1,y))\n",
    "ans_exp=[sol_exp.x,-sol_exp.fun]\n",
    "ans_exp #solicitamos que python nos regrese los coeficientes beta calculados y el coeficiente R2."
   ]
  },
  {
   "cell_type": "code",
   "execution_count": 17,
   "id": "6ee8251a",
   "metadata": {},
   "outputs": [],
   "source": [
    "#Modelo de potencias\n",
    "def funpx(beta,x,y):\n",
    "    f=beta[0]*(x**beta[1])   #La función potencial con coeficientes a determinar\n",
    "    return (-1 + ( np.sum((y-f)**2)/np.sum((y-np.mean(f))**2) )) #Coeficiente R2\n",
    "\n",
    "beta0_px=np.random.rand(2) #parámetro para la función 'minimize' de Scipy, dependiente de la dimensión del array 'beta'"
   ]
  },
  {
   "cell_type": "code",
   "execution_count": 18,
   "id": "3e6f183d",
   "metadata": {},
   "outputs": [
    {
     "data": {
      "text/plain": [
       "[array([266.69961013,   0.36931093]), 0.9082243273088506]"
      ]
     },
     "execution_count": 18,
     "metadata": {},
     "output_type": "execute_result"
    }
   ],
   "source": [
    "sol_px=opt.minimize(funpx,beta0_px,args=(xn+1,y))\n",
    "ans_px=[sol_px.x,-sol_px.fun]\n",
    "ans_px #solicitamos que python nos regrese los coeficientes beta calculados y el coeficiente R2."
   ]
  },
  {
   "cell_type": "code",
   "execution_count": 19,
   "id": "03240777",
   "metadata": {},
   "outputs": [],
   "source": [
    "#A continuación se definen las funciones correspondientes a cada modelo\n",
    "    #las cuales graficaremos junto a los datos segun lo que se obtuvo.\n",
    "        #sumamos 1 unidad a las 'x' numéricas por la naturaleza de los modelos, pues estos datos comienzan en cero,\n",
    "         #y el logartimo de cero a cualquier base no está definido, mas lo que nos interesa es el rango de datos.\n",
    "\n",
    "f_ln=sol_ln.x[0]+sol_ln.x[1]*np.log(xn+1)\n",
    "f_exp=sol_exp.x[0]*np.exp(sol_exp.x[1]*(xn+1))\n",
    "f_px=sol_px.x[0]*((xn+1)**sol_px.x[1])"
   ]
  },
  {
   "cell_type": "code",
   "execution_count": 20,
   "id": "9c1fd49b",
   "metadata": {},
   "outputs": [
    {
     "data": {
      "image/png": "[encoded data removed]",
      "text/plain": [
       "<Figure size 432x288 with 1 Axes>"
      ]
     },
     "metadata": {
      "needs_background": "light"
     },
     "output_type": "display_data"
    }
   ],
   "source": [
    "plt.scatter(xn+1995,y,s=5,c='black') #sumamos a la 'x' numérica el año inicial para obtener la gráfica cualitativa\n",
    "plt.xlabel('Año')\n",
    "plt.ylabel('Abordajes en cientos')\n",
    "plt.plot(xn+1995,f_ln,'b',label='Logaritmica')\n",
    "plt.plot(xn+1995,f_exp,'r',label='Exponencial')\n",
    "plt.plot(xn+1995,f_px,'y',label='Potencial')\n",
    "plt.legend(loc='best')\n",
    "plt.grid()"
   ]
  },
  {
   "cell_type": "code",
   "execution_count": 21,
   "id": "08852c6f",
   "metadata": {},
   "outputs": [
    {
     "data": {
      "image/png": "[encoded data removed]",
      "text/plain": [
       "<Figure size 432x288 with 1 Axes>"
      ]
     },
     "metadata": {
      "needs_background": "light"
     },
     "output_type": "display_data"
    }
   ],
   "source": [
    "plt.plot(1,-sol_ln.fun,'ob',label='Logaritmica')\n",
    "plt.plot(2,-sol_exp.fun,'or',label='Exponencial')\n",
    "plt.plot(3,-sol_px.fun,'oy',label='Potencial')\n",
    "plt.xlabel('Modelo')\n",
    "plt.ylabel('R2')\n",
    "plt.legend(loc='best')\n",
    "plt.grid()"
   ]
  },
  {
   "cell_type": "markdown",
   "id": "34172b09",
   "metadata": {},
   "source": [
    "Como se observa, de estos 3 modelos, el logaritmico no resulta lo suficientemente preciso, con un coeficiente $R^2$ de 0.82 aproximadamente, mientras que los modelos exponencial y potencial presentan índices iguales o mayores a 0.91, siendo suficientemente precisos para predecir el comportamiento de los datos, sin embargo, se utilizará el modelo exponencial pues es el que arrojó un índice de ajuste a la curva mayor."
   ]
  },
  {
   "cell_type": "code",
   "execution_count": 22,
   "id": "b3e17336",
   "metadata": {},
   "outputs": [],
   "source": [
    "#Definición de las funciones a utilizar para las predicciones\n",
    "def f(año):\n",
    "    x=año-1995\n",
    "    y=sol3.x[0]+sol3.x[1]*x+sol3.x[2]*(x**2)+sol3.x[3]*(x**3)\n",
    "    return (y*100)\n",
    "    #Es importante notar que debido a que esta función está construida en base al modelo numérico,\n",
    "    #el año ingresado deberá restarcele 1995 pues es el año cero, en el cual comienza nuestro modelo.\n",
    "        #Asímismo el resultado final se multiplica por 100 pues el modelo numérico reporta los resultados en centenas.\n",
    "\n",
    "def f_2(año):\n",
    "    x=año-1995\n",
    "    y=sol_exp.x[0]*np.exp(sol_exp.x[1]*x)\n",
    "    return (y*100)"
   ]
  },
  {
   "cell_type": "code",
   "execution_count": 35,
   "id": "fd7a86d3",
   "metadata": {},
   "outputs": [
    {
     "data": {
      "text/plain": [
       "75342.94002647311"
      ]
     },
     "execution_count": 35,
     "metadata": {},
     "output_type": "execute_result"
    }
   ],
   "source": [
    "#Predicción para el año 2025\n",
    "f(2025)"
   ]
  },
  {
   "cell_type": "code",
   "execution_count": 36,
   "id": "336590cb",
   "metadata": {},
   "outputs": [
    {
     "data": {
      "text/plain": [
       "-77386.30700936329"
      ]
     },
     "execution_count": 36,
     "metadata": {},
     "output_type": "execute_result"
    }
   ],
   "source": [
    "#Predicción para el año 2040\n",
    "f(2040)"
   ]
  },
  {
   "cell_type": "markdown",
   "id": "4b33136e",
   "metadata": {},
   "source": [
    "* Aquí nos encontramos con que el modelo cúbico fue muy bueno para predecir el número de abordajes para un año cercano al último dato reportado en la DB. Mas fue muy impreciso con un año relativamente lejano, pues por la naturaleza que posee una función cúbica de cambiar su convección en ciertos intervalos, arrojó un dato negativo.\n",
    "\n",
    "\n",
    "* Por ello, para predecir de manera más convencional datos que salen del rango de años de nuestra DB, usaremos la función exponencial, pues si bien no es más preciso que el modelo polinomial, sigue teniendo un coeficiente $R2$ elevado y por lógica sabemos que este modelo no presentará datos negativos para valores de años futuros."
   ]
  },
  {
   "cell_type": "code",
   "execution_count": 25,
   "id": "cadf388e",
   "metadata": {},
   "outputs": [
    {
     "data": {
      "text/plain": [
       "112999.3169870597"
      ]
     },
     "execution_count": 25,
     "metadata": {},
     "output_type": "execute_result"
    }
   ],
   "source": [
    "#Nueva predicción para el año 2025\n",
    "f_2(2025)"
   ]
  },
  {
   "cell_type": "code",
   "execution_count": 26,
   "id": "7accdfdb",
   "metadata": {},
   "outputs": [
    {
     "data": {
      "text/plain": [
       "187151.7681753301"
      ]
     },
     "execution_count": 26,
     "metadata": {},
     "output_type": "execute_result"
    }
   ],
   "source": [
    "#Nueva predicción para el año 2040\n",
    "f_2(2040)"
   ]
  },
  {
   "cell_type": "code",
   "execution_count": 37,
   "id": "f495fdb3",
   "metadata": {},
   "outputs": [
    {
     "data": {
      "text/plain": [
       "0.33324428823670565"
      ]
     },
     "execution_count": 37,
     "metadata": {},
     "output_type": "execute_result"
    }
   ],
   "source": [
    "#Calculando error relativo para el año 2025\n",
    "err=abs(f(2025)-f_2(2025))/f_2(2025)\n",
    "err"
   ]
  },
  {
   "cell_type": "markdown",
   "id": "02a4fea7",
   "metadata": {},
   "source": [
    "* De esta manera, se logra predecir por el modelo cúbico, que para el año 2025, habrán `75,343` abordajes aproximadamente para el tráfico aéreo mexicano con un índice de error de $0.33$, mientras que, por el modelo exponencial, para el año 2040 habrán `187,152` abordajes aproximadamente."
   ]
  }
 ],
 "metadata": {
  "kernelspec": {
   "display_name": "Python 3",
   "language": "python",
   "name": "python3"
  },
  "language_info": {
   "codemirror_mode": {
    "name": "ipython",
    "version": 3
   },
   "file_extension": ".py",
   "mimetype": "text/x-python",
   "name": "python",
   "nbconvert_exporter": "python",
   "pygments_lexer": "ipython3",
   "version": "3.8.8"
  }
 },
 "nbformat": 4,
 "nbformat_minor": 5
}
