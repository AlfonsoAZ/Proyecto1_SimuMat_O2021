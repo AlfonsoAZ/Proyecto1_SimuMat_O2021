{
 "cells": [
  {
   "cell_type": "markdown",
   "id": "68c91696",
   "metadata": {},
   "source": [
    "- **Oscar Darío Angel García nt720784**\n",
    "- Max\n",
    "- Alfonso"
   ]
  },
  {
   "cell_type": "markdown",
   "id": "65cb449b",
   "metadata": {},
   "source": [
    "# Simulación Matemática - Proyecto 1"
   ]
  },
  {
   "cell_type": "code",
   "execution_count": 1,
   "id": "78a8be5c",
   "metadata": {},
   "outputs": [],
   "source": [
    "import numpy as np\n",
    "import scipy.optimize as opt\n",
    "import matplotlib as plt\n",
    "import pandas as pd"
   ]
  },
  {
   "cell_type": "markdown",
   "id": "b9cd1d0a",
   "metadata": {},
   "source": [
    "- cargar los datos de la DB\n",
    "- Definir objetivos (justificación)\n",
    "- objetivos específicos (qué haremos nosotros con nuestro código)\n",
    "- planteamiento del modelo y ecuaciones\n",
    "- código y gráficas\n",
    "- relevancia de los resultados"
   ]
  },
  {
   "cell_type": "markdown",
   "id": "fbdf7991",
   "metadata": {},
   "source": [
    "**Sugerencias:**\n",
    "- la DB viene de 1970 a 2019.\n",
    "    - Año VS #abordajes\n",
    "- Buscaremos predecir por minimos cuadrados el modelo de comportamiento.\n",
    "    - Lineal, polinomial, exponencial, logaritmica, senoidal etc.\n",
    "- graficaremos datos y curvas obtenidas.\n",
    "    - cada curva de distinto color y mostrando etiquetas de ejes y etiquetas de las curvas.\n",
    "- graficaremos modelo vs error cuadrático.\n",
    "- se buscará predecir la cantidad de abordajes para el 2022*."
   ]
  }
 ],
 "metadata": {
  "kernelspec": {
   "display_name": "Python 3",
   "language": "python",
   "name": "python3"
  },
  "language_info": {
   "codemirror_mode": {
    "name": "ipython",
    "version": 3
   },
   "file_extension": ".py",
   "mimetype": "text/x-python",
   "name": "python",
   "nbconvert_exporter": "python",
   "pygments_lexer": "ipython3",
   "version": "3.8.8"
  }
 },
 "nbformat": 4,
 "nbformat_minor": 5
}
